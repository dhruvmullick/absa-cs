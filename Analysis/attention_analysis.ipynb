{
 "cells": [
  {
   "cell_type": "code",
   "execution_count": null,
   "metadata": {
    "collapsed": true
   },
   "outputs": [],
   "source": [
    "from transformers import T5ForConditionalGeneration, T5Tokenizer\n",
    "\n",
    "def get_model_and_tokenizer(path):\n",
    "    tokenizer = T5Tokenizer.from_pretrained(path)\n",
    "    model = T5ForConditionalGeneration.from_pretrained(path, output_attentions=True)\n",
    "    return tokenizer, model"
   ]
  },
  {
   "cell_type": "code",
   "execution_count": null,
   "outputs": [],
   "source": [
    "BASELINE_PATH = \"baseline_seed1\"\n",
    "baseline_tokenizer, baseline_model = get_model_and_tokenizer(BASELINE_PATH)\n",
    "\n",
    "# SQUAD_PATH = \"squad_0.5_seed5\"\n",
    "# squad_tokenizer = T5Tokenizer.from_pretrained(SQUAD_PATH)\n",
    "# squad_model = T5ForConditionalGeneration.from_pretrained(SQUAD_PATH, output_attentions=True)\n",
    "\n",
    "# COMMONGEN_PATH = \"commongen_0.1_seed4\"\n",
    "# commongen_tokenizer = T5Tokenizer.from_pretrained(COMMONGEN_PATH)\n",
    "# commongen_model = T5ForConditionalGeneration.from_pretrained(COMMONGEN_PATH, output_attentions=True)\n",
    "\n",
    "# COSMOS_PATH = \"cosmos_1.0_seed9\"\n",
    "# cosmos_tokenizer, cosmos_model = get_model_and_tokenizer(COSMOS_PATH)\n"
   ],
   "metadata": {
    "collapsed": false,
    "pycharm": {
     "name": "#%%\n"
    }
   }
  },
  {
   "cell_type": "code",
   "execution_count": null,
   "outputs": [],
   "source": [
    "def get_view(tokenzier, model, true_output):\n",
    "    encoder_input_ids = tokenzier(INPUT_SENTENCE, return_tensors=\"pt\", add_special_tokens=True).input_ids\n",
    "    labels = tokenzier(true_output, return_tensors=\"pt\", add_special_tokens=True).input_ids\n",
    "    outputs = model(input_ids=encoder_input_ids, labels=labels)\n",
    "    encoder_text = tokenzier.convert_ids_to_tokens(encoder_input_ids[0])\n",
    "\n",
    "    generated_ids = model.generate(input_ids=encoder_input_ids, max_length=256, do_sample=True, top_p=0.9, top_k=0, num_return_sequences=1)\n",
    "    preds = [tokenzier.decode(g, skip_special_tokens=True, clean_up_tokenization_spaces=True) for g in generated_ids]\n",
    "    print(preds[0])\n",
    "\n",
    "    from bertviz import model_view, head_view\n",
    "    head_view(\n",
    "        encoder_attention=outputs.encoder_attentions,\n",
    "        cross_attention=None,\n",
    "        encoder_tokens= encoder_text,\n",
    "        include_layers=[10,11]\n",
    "    )"
   ],
   "metadata": {
    "collapsed": false,
    "pycharm": {
     "name": "#%%\n"
    }
   }
  },
  {
   "cell_type": "code",
   "execution_count": null,
   "outputs": [],
   "source": [
    "INPUT_SENTENCE = \"get sentiment: The Scene Hunky waiters dub diners darling and it sounds like they mean it. aspect: waiters\"\n",
    "OUTPUT = \"negative\"\n",
    "get_view(baseline_tokenizer, baseline_model, OUTPUT)"
   ],
   "metadata": {
    "collapsed": false,
    "pycharm": {
     "name": "#%%\n"
    }
   }
  }
 ],
 "metadata": {
  "kernelspec": {
   "display_name": "Python 3",
   "language": "python",
   "name": "python3"
  },
  "language_info": {
   "codemirror_mode": {
    "name": "ipython",
    "version": 2
   },
   "file_extension": ".py",
   "mimetype": "text/x-python",
   "name": "python",
   "nbconvert_exporter": "python",
   "pygments_lexer": "ipython2",
   "version": "2.7.6"
  }
 },
 "nbformat": 4,
 "nbformat_minor": 0
}