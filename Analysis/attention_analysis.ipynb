{
 "cells": [
  {
   "cell_type": "code",
   "execution_count": 1,
   "metadata": {
    "pycharm": {
     "name": "#%%\n"
    }
   },
   "outputs": [],
   "source": [
    "from transformers import T5ForConditionalGeneration, T5Tokenizer\n",
    "\n",
    "def get_model_and_tokenizer(path):\n",
    "    tokenizer = T5Tokenizer.from_pretrained(path)\n",
    "    model = T5ForConditionalGeneration.from_pretrained(path, output_attentions=True)\n",
    "    return tokenizer, model"
   ]
  },
  {
   "cell_type": "code",
   "execution_count": 4,
   "metadata": {
    "pycharm": {
     "name": "#%%\n"
    }
   },
   "outputs": [],
   "source": [
    "BASELINE_PATH = \"/Users/dhruvmullick/Projects/absa-cs/models/baseline_seed5\"\n",
    "baseline_tokenizer, baseline_model = get_model_and_tokenizer(BASELINE_PATH)\n",
    "\n",
    "# SQUAD_PATH = \"squad_0.5_seed5\"\n",
    "# squad_tokenizer = T5Tokenizer.from_pretrained(SQUAD_PATH)\n",
    "# squad_model = T5ForConditionalGeneration.from_pretrained(SQUAD_PATH, output_attentions=True)\n",
    "\n",
    "# COMMONGEN_PATH = \"commongen_0.1_seed4\"\n",
    "# commongen_tokenizer = T5Tokenizer.from_pretrained(COMMONGEN_PATH)\n",
    "# commongen_model = T5ForConditionalGeneration.from_pretrained(COMMONGEN_PATH, output_attentions=True)\n",
    "\n",
    "# COSMOS_PATH = \"cosmos_1.0_seed9\"\n",
    "# cosmos_tokenizer, cosmos_model = get_model_and_tokenizer(COSMOS_PATH)\n"
   ]
  },
  {
   "cell_type": "code",
   "execution_count": 5,
   "metadata": {
    "pycharm": {
     "name": "#%%\n"
    }
   },
   "outputs": [],
   "source": [
    "def get_view(tokenzier, model, true_output):\n",
    "    encoder_input_ids = tokenzier(INPUT_SENTENCE, return_tensors=\"pt\", add_special_tokens=True).input_ids\n",
    "    labels = tokenzier(true_output, return_tensors=\"pt\", add_special_tokens=True).input_ids\n",
    "    outputs = model(input_ids=encoder_input_ids, labels=labels)\n",
    "    encoder_text = tokenzier.convert_ids_to_tokens(encoder_input_ids[0])\n",
    "\n",
    "    generated_ids = model.generate(input_ids=encoder_input_ids, max_length=256, do_sample=True, top_p=0.9, top_k=0, num_return_sequences=1)\n",
    "    preds = [tokenzier.decode(g, skip_special_tokens=True, clean_up_tokenization_spaces=True) for g in generated_ids]\n",
    "    print(preds[0])\n",
    "\n",
    "#     from bertviz import model_view, head_view\n",
    "#     head_view(\n",
    "#         encoder_attention=outputs.encoder_attentions,\n",
    "#         cross_attention=None,\n",
    "#         encoder_tokens= encoder_text,\n",
    "#         include_layers=[10,11]\n",
    "#     )"
   ]
  },
  {
   "cell_type": "code",
   "execution_count": 25,
   "metadata": {
    "pycharm": {
     "name": "#%%\n"
    }
   },
   "outputs": [
    {
     "name": "stdout",
     "output_type": "stream",
     "text": [
      "neutral\n"
     ]
    },
    {
     "ename": "ModuleNotFoundError",
     "evalue": "No module named 'bertviz'",
     "output_type": "error",
     "traceback": [
      "\u001b[0;31m---------------------------------------------------------------------------\u001b[0m",
      "\u001b[0;31mModuleNotFoundError\u001b[0m                       Traceback (most recent call last)",
      "\u001b[0;32m/var/folders/jp/hxcgss6j7_z66ntjjl2mbdyw0000gn/T/ipykernel_73952/1586397615.py\u001b[0m in \u001b[0;36m<module>\u001b[0;34m\u001b[0m\n\u001b[1;32m      1\u001b[0m \u001b[0mINPUT_SENTENCE\u001b[0m \u001b[0;34m=\u001b[0m \u001b[0;34m\"get sentiment: He ate food at the restaurant, it was dark. aspect: restaurant\"\u001b[0m\u001b[0;34m\u001b[0m\u001b[0;34m\u001b[0m\u001b[0m\n\u001b[1;32m      2\u001b[0m \u001b[0mOUTPUT\u001b[0m \u001b[0;34m=\u001b[0m \u001b[0;34m\"negative\"\u001b[0m\u001b[0;34m\u001b[0m\u001b[0;34m\u001b[0m\u001b[0m\n\u001b[0;32m----> 3\u001b[0;31m \u001b[0mget_view\u001b[0m\u001b[0;34m(\u001b[0m\u001b[0mbaseline_tokenizer\u001b[0m\u001b[0;34m,\u001b[0m \u001b[0mbaseline_model\u001b[0m\u001b[0;34m,\u001b[0m \u001b[0mOUTPUT\u001b[0m\u001b[0;34m)\u001b[0m\u001b[0;34m\u001b[0m\u001b[0;34m\u001b[0m\u001b[0m\n\u001b[0m",
      "\u001b[0;32m/var/folders/jp/hxcgss6j7_z66ntjjl2mbdyw0000gn/T/ipykernel_73952/1768605838.py\u001b[0m in \u001b[0;36mget_view\u001b[0;34m(tokenzier, model, true_output)\u001b[0m\n\u001b[1;32m      9\u001b[0m     \u001b[0mprint\u001b[0m\u001b[0;34m(\u001b[0m\u001b[0mpreds\u001b[0m\u001b[0;34m[\u001b[0m\u001b[0;36m0\u001b[0m\u001b[0;34m]\u001b[0m\u001b[0;34m)\u001b[0m\u001b[0;34m\u001b[0m\u001b[0;34m\u001b[0m\u001b[0m\n\u001b[1;32m     10\u001b[0m \u001b[0;34m\u001b[0m\u001b[0m\n\u001b[0;32m---> 11\u001b[0;31m     \u001b[0;32mfrom\u001b[0m \u001b[0mbertviz\u001b[0m \u001b[0;32mimport\u001b[0m \u001b[0mmodel_view\u001b[0m\u001b[0;34m,\u001b[0m \u001b[0mhead_view\u001b[0m\u001b[0;34m\u001b[0m\u001b[0;34m\u001b[0m\u001b[0m\n\u001b[0m\u001b[1;32m     12\u001b[0m     head_view(\n\u001b[1;32m     13\u001b[0m         \u001b[0mencoder_attention\u001b[0m\u001b[0;34m=\u001b[0m\u001b[0moutputs\u001b[0m\u001b[0;34m.\u001b[0m\u001b[0mencoder_attentions\u001b[0m\u001b[0;34m,\u001b[0m\u001b[0;34m\u001b[0m\u001b[0;34m\u001b[0m\u001b[0m\n",
      "\u001b[0;31mModuleNotFoundError\u001b[0m: No module named 'bertviz'"
     ]
    }
   ],
   "source": [
    "INPUT_SENTENCE = \"get sentiment: He ate food at the restaurant, it was dark. aspect: restaurant\"\n",
    "OUTPUT = \"negative\"\n",
    "get_view(baseline_tokenizer, baseline_model, OUTPUT)"
   ]
  },
  {
   "cell_type": "code",
   "execution_count": null,
   "metadata": {},
   "outputs": [],
   "source": []
  }
 ],
 "metadata": {
  "kernelspec": {
   "display_name": "Python 3 (ipykernel)",
   "language": "python",
   "name": "python3"
  },
  "language_info": {
   "codemirror_mode": {
    "name": "ipython",
    "version": 3
   },
   "file_extension": ".py",
   "mimetype": "text/x-python",
   "name": "python",
   "nbconvert_exporter": "python",
   "pygments_lexer": "ipython3",
   "version": "3.9.7"
  }
 },
 "nbformat": 4,
 "nbformat_minor": 1
}
